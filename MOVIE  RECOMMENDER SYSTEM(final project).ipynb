{
 "cells": [
  {
   "cell_type": "code",
   "execution_count": 1,
   "id": "bee06118-e5c6-456f-89e6-62ac829f65f7",
   "metadata": {},
   "outputs": [],
   "source": [
    "import pandas as pd\n",
    "\n",
    "# Load Movies and Ratings dataset\n",
    "movies = pd.read_csv('movies.csv')\n",
    "ratings = pd.read_csv('ratings.csv')\n"
   ]
  },
  {
   "cell_type": "code",
   "execution_count": 2,
   "id": "96df56e2-b37d-4bdf-8fe9-ff207e13d15c",
   "metadata": {},
   "outputs": [
    {
     "name": "stdout",
     "output_type": "stream",
     "text": [
      "   movieId                               title  \\\n",
      "0        1                    Toy Story (1995)   \n",
      "1        2                      Jumanji (1995)   \n",
      "2        3             Grumpier Old Men (1995)   \n",
      "3        4            Waiting to Exhale (1995)   \n",
      "4        5  Father of the Bride Part II (1995)   \n",
      "\n",
      "                                        genres  \n",
      "0  Adventure|Animation|Children|Comedy|Fantasy  \n",
      "1                   Adventure|Children|Fantasy  \n",
      "2                               Comedy|Romance  \n",
      "3                         Comedy|Drama|Romance  \n",
      "4                                       Comedy  \n",
      "   userId  movieId  rating   timestamp\n",
      "0       1       16     4.0  1217897793\n",
      "1       1       24     1.5  1217895807\n",
      "2       1       32     4.0  1217896246\n",
      "3       1       47     4.0  1217896556\n",
      "4       1       50     4.0  1217896523\n",
      "Unique Users: 668\n",
      "Unique Movies: 10325\n",
      "Genre-wise Movie Count:\n",
      " genre\n",
      "Drama                 5220\n",
      "Comedy                3515\n",
      "Thriller              2187\n",
      "Romance               1788\n",
      "Action                1737\n",
      "Crime                 1440\n",
      "Adventure             1164\n",
      "Horror                1001\n",
      "Sci-Fi                 860\n",
      "Mystery                675\n",
      "Fantasy                670\n",
      "Children               540\n",
      "War                    503\n",
      "Documentary            415\n",
      "Musical                409\n",
      "Animation              401\n",
      "Western                235\n",
      "Film-Noir              195\n",
      "IMAX                   152\n",
      "(no genres listed)       7\n",
      "Name: count, dtype: int64\n",
      "Unique Genres: ['Adventure' 'Animation' 'Children' 'Comedy' 'Fantasy' 'Romance' 'Drama'\n",
      " 'Action' 'Crime' 'Thriller' 'Horror' 'Mystery' 'Sci-Fi' 'IMAX' 'War'\n",
      " 'Musical' 'Documentary' 'Western' 'Film-Noir' '(no genres listed)']\n"
     ]
    }
   ],
   "source": [
    "# Understanding the distribution of features\n",
    "print(movies.head())\n",
    "print(ratings.head())\n",
    "\n",
    "# Finding unique users and movies\n",
    "unique_users = ratings['userId'].nunique()\n",
    "unique_movies = ratings['movieId'].nunique()\n",
    "print(\"Unique Users:\", unique_users)\n",
    "print(\"Unique Movies:\", unique_movies)\n",
    "\n",
    "# Average rating and total movies at the genre level\n",
    "movie_genre = movies['genres'].str.split('|', expand=True).stack().reset_index(level=1, drop=True)\n",
    "movie_genre.name = 'genre'\n",
    "genres_count = movie_genre.value_counts()\n",
    "print(\"Genre-wise Movie Count:\\n\", genres_count)\n",
    "\n",
    "# Unique genres considered\n",
    "unique_genres = movie_genre.unique()\n",
    "print(\"Unique Genres:\", unique_genres)"
   ]
  },
  {
   "cell_type": "code",
   "execution_count": 3,
   "id": "a8bd6b25-be1f-43a3-9f9f-edb2b4e8359a",
   "metadata": {},
   "outputs": [
    {
     "name": "stdout",
     "output_type": "stream",
     "text": [
      "                                        Num Reviews  Average Movie Rating\n",
      "title                                                                    \n",
      "Monty Python and the Holy Grail (1975)          154              4.301948\n",
      "Fargo (1996)                                    201              4.271144\n",
      "Princess Bride, The (1987)                      171              4.163743\n",
      "Pulp Fiction (1994)                             325              4.160000\n",
      "Forrest Gump (1994)                             311              4.138264\n"
     ]
    }
   ],
   "source": [
    "def popularity_based_recommender(genre, threshold, n):\n",
    "    genre_movies = movies[movies['genres'].str.contains(genre)]\n",
    "    genre_movie_ratings = pd.merge(genre_movies, ratings, on='movieId')\n",
    "    genre_movie_ratings_count = genre_movie_ratings.groupby('title').size()\n",
    "    genre_movie_ratings_avg = genre_movie_ratings.groupby('title')['rating'].mean()\n",
    "    \n",
    "    popular_movies = pd.DataFrame({'Num Reviews': genre_movie_ratings_count, 'Average Movie Rating': genre_movie_ratings_avg})\n",
    "    popular_movies = popular_movies[popular_movies['Num Reviews'] >= threshold].sort_values(by=['Average Movie Rating'], ascending=False).head(n)\n",
    "    \n",
    "    return popular_movies\n",
    "\n",
    "# Example usage:\n",
    "genre_input = 'Comedy'\n",
    "min_reviews_threshold = 100\n",
    "num_recommendations = 5\n",
    "output_popularity = popularity_based_recommender(genre_input, min_reviews_threshold, num_recommendations)\n",
    "print(output_popularity)\n"
   ]
  },
  {
   "cell_type": "code",
   "execution_count": 4,
   "id": "a9954bf6-6fab-4b06-8eb2-f11dcd3bd5f3",
   "metadata": {},
   "outputs": [
    {
     "name": "stdout",
     "output_type": "stream",
     "text": [
      "1815                                       Antz (1998)\n",
      "2496                                Toy Story 2 (1999)\n",
      "2967    Adventures of Rocky and Bullwinkle, The (2000)\n",
      "3166                  Emperor's New Groove, The (2000)\n",
      "3811                             Monsters, Inc. (2001)\n",
      "Name: title, dtype: object\n"
     ]
    }
   ],
   "source": [
    "from sklearn.feature_extraction.text import TfidfVectorizer\n",
    "from sklearn.metrics.pairwise import linear_kernel\n",
    "\n",
    "def content_based_recommender(movie_title, n):\n",
    "    tfidf = TfidfVectorizer(stop_words='english')\n",
    "    movies['genres'] = movies['genres'].fillna('')\n",
    "    tfidf_matrix = tfidf.fit_transform(movies['genres'])\n",
    "    \n",
    "    cosine_sim = linear_kernel(tfidf_matrix, tfidf_matrix)\n",
    "    idx = movies[movies['title'] == movie_title].index[0]\n",
    "    sim_scores = list(enumerate(cosine_sim[idx]))\n",
    "    sim_scores = sorted(sim_scores, key=lambda x: x[1], reverse=True)\n",
    "    sim_scores = sim_scores[1:n+1]\n",
    "    \n",
    "    movie_indices = [i[0] for i in sim_scores]\n",
    "    return movies['title'].iloc[movie_indices]\n",
    "\n",
    "# Example usage:\n",
    "input_movie_title = 'Toy Story (1995)'\n",
    "num_recommendations_content = 5\n",
    "output_content_based = content_based_recommender(input_movie_title, num_recommendations_content)\n",
    "print(output_content_based)\n"
   ]
  },
  {
   "cell_type": "code",
   "execution_count": 5,
   "id": "0145f6ad-3b47-4caa-9bf3-d0b3a16bd712",
   "metadata": {},
   "outputs": [
    {
     "name": "stdout",
     "output_type": "stream",
     "text": [
      "0                      Toy Story (1995)\n",
      "1                        Jumanji (1995)\n",
      "2               Grumpier Old Men (1995)\n",
      "3              Waiting to Exhale (1995)\n",
      "4    Father of the Bride Part II (1995)\n",
      "Name: title, dtype: object\n"
     ]
    }
   ],
   "source": [
    "from sklearn.metrics.pairwise import cosine_similarity\n",
    "\n",
    "def collaborative_based_recommender(user_id, n, k):\n",
    "    user_movies = ratings[ratings['userId'] == user_id]['movieId']\n",
    "    similar_users = ratings[ratings['movieId'].isin(user_movies)]['userId'].unique()\n",
    "    similar_users = similar_users[similar_users != user_id][:k]\n",
    "    \n",
    "    similar_users_ratings = ratings[ratings['userId'].isin(similar_users)]\n",
    "    similar_users_ratings_grouped = similar_users_ratings.groupby('movieId')['rating'].mean().sort_values(ascending=False)\n",
    "    \n",
    "    movie_ids = similar_users_ratings_grouped.index.tolist()\n",
    "    movie_titles = movies[movies['movieId'].isin(movie_ids)]['title'][:n]\n",
    "    \n",
    "    return movie_titles\n",
    "\n",
    "# Example usage:\n",
    "user_input = 1\n",
    "num_recommendations_collab = 5\n",
    "threshold_similar_users = 100\n",
    "output_collaborative = collaborative_based_recommender(user_input, num_recommendations_collab, threshold_similar_users)\n",
    "print(output_collaborative)\n"
   ]
  },
  {
   "cell_type": "code",
   "execution_count": 6,
   "id": "654c482c-22de-4cf0-b3e4-1af028f3f38d",
   "metadata": {},
   "outputs": [
    {
     "data": {
      "application/vnd.jupyter.widget-view+json": {
       "model_id": "cd579a252bf64385b6416de3f4d4416f",
       "version_major": 2,
       "version_minor": 0
      },
      "text/plain": [
       "Text(value='', description='Genre:')"
      ]
     },
     "metadata": {},
     "output_type": "display_data"
    },
    {
     "data": {
      "application/vnd.jupyter.widget-view+json": {
       "model_id": "fb214fb0c004446289094d8c972c6185",
       "version_major": 2,
       "version_minor": 0
      },
      "text/plain": [
       "IntText(value=0, description='Min Reviews Threshold:')"
      ]
     },
     "metadata": {},
     "output_type": "display_data"
    },
    {
     "data": {
      "application/vnd.jupyter.widget-view+json": {
       "model_id": "35c459d7e17a44c28ef5d8d091e630e8",
       "version_major": 2,
       "version_minor": 0
      },
      "text/plain": [
       "IntText(value=0, description='Num Recommendations:')"
      ]
     },
     "metadata": {},
     "output_type": "display_data"
    },
    {
     "data": {
      "application/vnd.jupyter.widget-view+json": {
       "model_id": "de8e1337e1d542e39ca8acc7922889b0",
       "version_major": 2,
       "version_minor": 0
      },
      "text/plain": [
       "Button(description='Get Recommendations', style=ButtonStyle())"
      ]
     },
     "metadata": {},
     "output_type": "display_data"
    },
    {
     "data": {
      "application/vnd.jupyter.widget-view+json": {
       "model_id": "aba164e987174914963f5054c7fadff2",
       "version_major": 2,
       "version_minor": 0
      },
      "text/plain": [
       "Output()"
      ]
     },
     "metadata": {},
     "output_type": "display_data"
    }
   ],
   "source": [
    "import ipywidgets as widgets\n",
    "from IPython.display import display\n",
    "\n",
    "# Create widgets for inputs\n",
    "genre_input_widget = widgets.Text(description='Genre:')\n",
    "threshold_input_widget = widgets.IntText(description='Min Reviews Threshold:')\n",
    "num_recommendations_widget = widgets.IntText(description='Num Recommendations:')\n",
    "output_widget = widgets.Output()\n",
    "\n",
    "# Define function for handling button click\n",
    "def on_button_click(b):\n",
    "    with output_widget:\n",
    "        output_widget.clear_output()\n",
    "        genre = genre_input_widget.value\n",
    "        threshold = threshold_input_widget.value\n",
    "        n = num_recommendations_widget.value\n",
    "        \n",
    "        recommendations = popularity_based_recommender(genre, threshold, n)\n",
    "        print(recommendations)\n",
    "\n",
    "# Create button for triggering recommendation\n",
    "button = widgets.Button(description='Get Recommendations')\n",
    "button.on_click(on_button_click)\n",
    "\n",
    "# Display widgets and button\n",
    "display(genre_input_widget, threshold_input_widget, num_recommendations_widget, button)\n",
    "display(output_widget)\n"
   ]
  },
  {
   "cell_type": "code",
   "execution_count": null,
   "id": "f406734d-f3a7-41f8-aa0a-0c086142fb0f",
   "metadata": {},
   "outputs": [],
   "source": []
  }
 ],
 "metadata": {
  "kernelspec": {
   "display_name": "Python 3 (ipykernel)",
   "language": "python",
   "name": "python3"
  },
  "language_info": {
   "codemirror_mode": {
    "name": "ipython",
    "version": 3
   },
   "file_extension": ".py",
   "mimetype": "text/x-python",
   "name": "python",
   "nbconvert_exporter": "python",
   "pygments_lexer": "ipython3",
   "version": "3.11.5"
  }
 },
 "nbformat": 4,
 "nbformat_minor": 5
}
